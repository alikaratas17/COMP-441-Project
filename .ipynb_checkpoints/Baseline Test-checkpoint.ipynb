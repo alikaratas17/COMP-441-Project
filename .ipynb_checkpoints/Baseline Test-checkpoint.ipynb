{
 "cells": [
  {
   "cell_type": "code",
   "execution_count": 1,
   "id": "b62f6376",
   "metadata": {
    "scrolled": true
   },
   "outputs": [],
   "source": [
    "include(\"evaluators.jl\");"
   ]
  },
  {
   "cell_type": "code",
   "execution_count": 2,
   "id": "55f2e37c",
   "metadata": {},
   "outputs": [
    {
     "data": {
      "text/plain": [
       "3.8"
      ]
     },
     "execution_count": 2,
     "metadata": {},
     "output_type": "execute_result"
    }
   ],
   "source": [
    "HuberLoss(5)"
   ]
  },
  {
   "cell_type": "code",
   "execution_count": 3,
   "id": "f5194ce5",
   "metadata": {},
   "outputs": [],
   "source": [
    "l = [((0,1,2),3),((0,1,2),3),((0,1,2),3)];"
   ]
  },
  {
   "cell_type": "code",
   "execution_count": 4,
   "id": "4800cda5",
   "metadata": {
    "scrolled": true
   },
   "outputs": [
    {
     "data": {
      "text/plain": [
       "m (generic function with 1 method)"
      ]
     },
     "execution_count": 4,
     "metadata": {},
     "output_type": "execute_result"
    }
   ],
   "source": [
    "m(t,r) = r * t[1]+t[2]+t[3] "
   ]
  },
  {
   "cell_type": "code",
   "execution_count": 5,
   "id": "14a77c50",
   "metadata": {},
   "outputs": [
    {
     "data": {
      "text/plain": [
       "1.8"
      ]
     },
     "execution_count": 5,
     "metadata": {},
     "output_type": "execute_result"
    }
   ],
   "source": [
    "HuberLoss(l,m)"
   ]
  },
  {
   "cell_type": "code",
   "execution_count": 6,
   "id": "2825f8d6",
   "metadata": {},
   "outputs": [
    {
     "data": {
      "text/plain": [
       "0.9867717356703078"
      ]
     },
     "execution_count": 6,
     "metadata": {},
     "output_type": "execute_result"
    }
   ],
   "source": [
    "rand()"
   ]
  },
  {
   "cell_type": "code",
   "execution_count": 21,
   "id": "e6b04e8d",
   "metadata": {},
   "outputs": [],
   "source": [
    "include(\"Baseline.jl\")"
   ]
  },
  {
   "cell_type": "code",
   "execution_count": 22,
   "id": "9a4ab405",
   "metadata": {
    "scrolled": true
   },
   "outputs": [
    {
     "data": {
      "text/plain": [
       "BaselineModel()"
      ]
     },
     "execution_count": 22,
     "metadata": {},
     "output_type": "execute_result"
    }
   ],
   "source": [
    "m1 = BaselineModel()"
   ]
  },
  {
   "cell_type": "code",
   "execution_count": 23,
   "id": "46298ee7",
   "metadata": {},
   "outputs": [
    {
     "data": {
      "text/plain": [
       "0.316076179964149"
      ]
     },
     "execution_count": 23,
     "metadata": {},
     "output_type": "execute_result"
    }
   ],
   "source": [
    "HuberLoss(l,m1)"
   ]
  },
  {
   "cell_type": "code",
   "execution_count": null,
   "id": "cf329335",
   "metadata": {},
   "outputs": [],
   "source": []
  }
 ],
 "metadata": {
  "kernelspec": {
   "display_name": "Julia 1.6.3",
   "language": "julia",
   "name": "julia-1.6"
  },
  "language_info": {
   "file_extension": ".jl",
   "mimetype": "application/julia",
   "name": "julia",
   "version": "1.6.3"
  }
 },
 "nbformat": 4,
 "nbformat_minor": 5
}
