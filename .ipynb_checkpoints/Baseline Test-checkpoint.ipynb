{
 "cells": [
  {
   "cell_type": "markdown",
   "id": "89b9e74d",
   "metadata": {},
   "source": [
    "# Data Reading"
   ]
  },
  {
   "cell_type": "code",
   "execution_count": 1,
   "id": "398f5c51",
   "metadata": {
    "scrolled": true
   },
   "outputs": [
    {
     "data": {
      "text/plain": [
       "readData (generic function with 1 method)"
      ]
     },
     "execution_count": 1,
     "metadata": {},
     "output_type": "execute_result"
    }
   ],
   "source": [
    "include(\"DataReader.jl\")"
   ]
  },
  {
   "cell_type": "code",
   "execution_count": 2,
   "id": "e04920f8",
   "metadata": {
    "scrolled": true
   },
   "outputs": [
    {
     "data": {
      "text/plain": [
       "5-element Vector{Dict{String, Any}}:\n",
       " Dict(\"label\" => \"SUPPORTS\", \"noun_phrases\" => Any[\"the Fox Broadcasting Company\", \"Nikolaj Coster-Waldau worked with the Fox Broadcasting Company.\", \"Nikolaj Coster\", \"Waldau\", \"Nikolaj Coster - Waldau\"], \"verifiable\" => \"VERIFIABLE\", \"wiki_results\" => Any[\"Proposed_acquisition_of_21st_Century_Fox_by_Disney\", \"Waldorf_Astoria_New_York\", \"Nukaaka_Coster-Waldau\", \"21st_Century_Fox\", \"Shot_Caller_-LRB-film-RRB-\", \"Domino_-LRB-upcoming_film-RRB-\", \"Fox_Corporation\", \"The_Orville\", \"Small_Crimes\", \"List_of_highest_paid_American_television_stars\", \"Fox_Kids\", \"Fox_Entertainment_Group\", \"A_Second_Chance_-LRB-2014_film-RRB-\", \"Gods_of_Egypt_-LRB-film-RRB-\", \"Waldau_-LRB-surname-RRB-\", \"Waldau\", \"Nikolaj_Coster-Waldau\", \"Fox_Broadcasting_Company\"], \"id\" => 75397, \"predicted_pages\" => Any[\"Waldau\", \"Nikolaj_Coster-Waldau\", \"Fox_Broadcasting_Company\", \"Waldau_-LRB-surname-RRB-\"], \"evidence\" => Any[Any[Any[92206, 104971, \"Nikolaj_Coster-Waldau\", 7], Any[92206, 104971, \"Fox_Broadcasting_Company\", 0]]], \"claim\" => \"Nikolaj Coster-Waldau worked with the Fox Broadcasting Company.\", \"predicted_label\" => \"REFUTES\", \"predicted_evidence\" => Any[Any[\"Nikolaj_Coster-Waldau\", 7, \"0.7174\"], Any[\"Nikolaj_Coster-Waldau\", 9, \"0.0869\"], Any[\"Nikolaj_Coster-Waldau\", 8, \"0.0767\"], Any[\"Nikolaj_Coster-Waldau\", 0, \"0.0679\"], Any[\"Fox_Broadcasting_Company\", 5, \"0.0406\"]]…)\n",
       " Dict(\"label\" => \"SUPPORTS\", \"noun_phrases\" => Any[\"Roman Atwood is a content creator.\", \"Roman Atwood\", \"a content creator\"], \"verifiable\" => \"VERIFIABLE\", \"wiki_results\" => Any[\"Content_-LRB-media-RRB-\", \"Sam_Macaroni\", \"6th_Streamy_Awards\", \"Dennis_Roady\", \"8th_Streamy_Awards\", \"Digital_content\", \"Lilly_Singh\", \"Tyler,_the_Creator\", \"YouTube\", \"PewDiePie\", \"Yousef_Erakat\", \"Natural_Born_Pranksters\", \"List_of_original_programs_distributed_by_Netflix\", \"Content_creation\", \"Patreon\", \"Atwood\", \"Vitaly_Zdorovetskiy\", \"Roman_Atwood\", \"Web_syndication\"], \"id\" => 150448, \"predicted_pages\" => Any[\"Content_-LRB-media-RRB-\", \"Atwood\", \"Roman_Atwood\"], \"evidence\" => Any[Any[Any[174271, 187498, \"Roman_Atwood\", 1]], Any[Any[174271, 187499, \"Roman_Atwood\", 3]]], \"claim\" => \"Roman Atwood is a content creator.\", \"predicted_label\" => \"REFUTES\", \"predicted_evidence\" => Any[Any[\"Roman_Atwood\", 0, \"0.8286\"], Any[\"Roman_Atwood\", 1, \"0.0880\"], Any[\"Roman_Atwood\", 3, \"0.0764\"], Any[\"Roman_Atwood\", 4, \"0.0030\"], Any[\"Roman_Atwood\", 2, \"0.0025\"]]…)\n",
       " Dict(\"label\" => \"SUPPORTS\", \"noun_phrases\" => Any[\"History of art\", \"poetry literature\", \"narrative\", \"theatre\", \"graphic arts\", \"sculpture\", \"architecture\", \"History\", \"architecture , dance , sculpture , music , painting , poetry literature , theatre , narrative , film , photography and graphic arts\", \"History of art includes architecture, dance, sculpture, music, painting, poetry literature, theatre, narrative, film, photography and graphic arts.\", \"photography\", \"dance\", \"film\", \"art\"], \"verifiable\" => \"VERIFIABLE\", \"wiki_results\" => Any[\"Architecture\", \"Athens\", \"Film\", \"Dance_to_This\", \"Sculpture\", \"Graphic_designer\", \"Color_photography\", \"Dance\", \"Romance_film\", \"Exposition_-LRB-narrative-RRB-\"  …  \"Dance,_Dance,_Dance\", \"Constructivism_-LRB-art-RRB-\", \"History_of_art\", \"Bohemian_Rhapsody_-LRB-film-RRB-\", \"Narrative\", \"Nude_photography\", \"Plot_-LRB-narrative-RRB-\", \"Love_Sculpture\", \"Outline_of_sculpture\", \"History_of_architecture\"], \"id\" => 214861, \"predicted_pages\" => Any[\"Architecture\", \"History_of_theatre\", \"Film\", \"Sculpture\", \"Narrative_poetry\", \"Dance\", \"Art\", \"History_of_painting\", \"Literature\", \"Art_history\"  …  \"Narrativity\", \"Dance,_Dance,_Dance\", \"History_of_art\", \"Narrative\", \"Dance_Dance_Dance_-LRB-novel-RRB-\", \"Graphic_arts\", \"Photography\", \"ART\", \"Poetry\", \"History_of_architecture\"], \"evidence\" => Any[Any[Any[255136, 254645, \"History_of_art\", 2]]], \"claim\" => \"History of art includes architecture, dance, sculpture, music, painting, poetry literature, theatre, narrative, film, photography and graphic arts.\", \"predicted_label\" => \"REFUTES\", \"predicted_evidence\" => Any[Any[\"History_of_art\", 2, \"0.7505\"], Any[\"Narrative\", 7, \"0.0768\"], Any[\"Art_history\", 1, \"0.0649\"], Any[\"Graphic_arts\", 2, \"0.0175\"], Any[\"Theatre\", 11, \"0.0113\"]]…)\n",
       " Dict(\"label\" => \"REFUTES\", \"noun_phrases\" => Any[\"Adrienne Bailon is an accountant.\", \"Adrienne Bailon\", \"an accountant\"], \"verifiable\" => \"VERIFIABLE\", \"wiki_results\" => Any[\"The_Accountant_-LRB-2016_film-RRB-\", \"Adrienne_Bailon\", \"Bailon\", \"I'm_in_Love_with_a_Church_Girl\", \"October_24\", \"The_Accountant\", \"Loni_Love\", \"Certified_Public_Accountant\", \"Naturi_Naughton\", \"Bookmaker\", \"The_Cheetah_Girls_-LRB-group-RRB-\", \"3LW\", \"Accountant\", \"Empire_Girls-COLON-_Julissa_and_Adrienne\", \"Management_accounting\", \"Chartered_accountant\"], \"id\" => 156709, \"predicted_pages\" => Any[\"Adrienne_Bailon\", \"Bailon\", \"Accountant\"], \"evidence\" => Any[Any[Any[180804, 193183, \"Adrienne_Bailon\", 0]]], \"claim\" => \"Adrienne Bailon is an accountant.\", \"predicted_label\" => \"REFUTES\", \"predicted_evidence\" => Any[Any[\"Adrienne_Bailon\", 0, \"0.9997\"], Any[\"Adrienne_Bailon\", 8, \"0.0002\"], Any[\"Adrienne_Bailon\", 1, \"0.0001\"], Any[\"Adrienne_Bailon\", 13, \"0.0001\"], Any[\"Adrienne_Bailon\", 9, \"0.0000\"]]…)\n",
       " Dict(\"label\" => \"NOT ENOUGH INFO\", \"noun_phrases\" => Any[\"System of a Down briefly\", \"System of a Down briefly disbanded in limbo.\", \"limbo\", \"System\", \"System of a Down\", \"a Down\"], \"verifiable\" => \"NOT VERIFIABLE\", \"wiki_results\" => Any[\"Watership_Down\", \"Limbo_-LRB-disambiguation-RRB-\", \"Serj_Tankian\", \"Writing_system\", \"Solar_System\", \"System_of_a_Down_discography\", \"System_of_a_Down\", \"Frank_Zappa\", \"Information_system\", \"Turtles_all_the_way_down\"  …  \"Sapiens-COLON-_A_Brief_History_of_Humankind\", \"Runnin'_Down_a_Dream\", \"Playa_Limbo\", \"Limbo\", \"Down\", \"Limbo_-LRB-dance-RRB-\", \"Toxicity_-LRB-album-RRB-\", \"System_administrator\", \"Nervous_system\", \"Crystal_Palace_F.C.\"], \"id\" => 83235, \"predicted_pages\" => Any[\"System_of_a_Down_-LRB-album-RRB-\", \"Limbo\", \"Down_Down\", \"Down\", \"Limbo_-LRB-dance-RRB-\", \"In_Limbo\", \"System_of_a_Down\", \"System\", \"Limbo_-LRB-disambiguation-RRB-\", \"Limbo_-LRB-video_game-RRB-\"], \"evidence\" => Any[Any[Any[100277, nothing, nothing, nothing]]], \"claim\" => \"System of a Down briefly disbanded in limbo.\", \"predicted_label\" => \"REFUTES\", \"predicted_evidence\" => Any[Any[\"System_of_a_Down\", 6, \"0.8662\"], Any[\"System_of_a_Down\", 0, \"0.1115\"], Any[\"In_Limbo\", 17, \"0.0057\"], Any[\"System_of_a_Down_-LRB-album-RRB-\", 0, \"0.0040\"], Any[\"Limbo_-LRB-dance-RRB-\", 2, \"0.0039\"]]…)"
      ]
     },
     "execution_count": 2,
     "metadata": {},
     "output_type": "execute_result"
    }
   ],
   "source": [
    "s = readData(\"sample_data.jsonl\")"
   ]
  },
  {
   "cell_type": "code",
   "execution_count": 3,
   "id": "617dafe0",
   "metadata": {},
   "outputs": [
    {
     "data": {
      "text/plain": [
       "Dict{String, Any} with 10 entries:\n",
       "  \"label\"              => \"REFUTES\"\n",
       "  \"noun_phrases\"       => Any[\"Adrienne Bailon is an accountant.\", \"Adrienne Ba…\n",
       "  \"verifiable\"         => \"VERIFIABLE\"\n",
       "  \"wiki_results\"       => Any[\"The_Accountant_-LRB-2016_film-RRB-\", \"Adrienne_B…\n",
       "  \"id\"                 => 156709\n",
       "  \"predicted_pages\"    => Any[\"Adrienne_Bailon\", \"Bailon\", \"Accountant\"]\n",
       "  \"evidence\"           => Any[Any[Any[180804, 193183, \"Adrienne_Bailon\", 0]]]\n",
       "  \"claim\"              => \"Adrienne Bailon is an accountant.\"\n",
       "  \"predicted_label\"    => \"REFUTES\"\n",
       "  \"predicted_evidence\" => Any[Any[\"Adrienne_Bailon\", 0, \"0.9997\"], Any[\"Adrienn…"
      ]
     },
     "execution_count": 3,
     "metadata": {},
     "output_type": "execute_result"
    }
   ],
   "source": [
    "s[4]"
   ]
  },
  {
   "cell_type": "markdown",
   "id": "127bce1f",
   "metadata": {},
   "source": [
    "# Simple Baseline Model"
   ]
  },
  {
   "cell_type": "code",
   "execution_count": 4,
   "id": "e6b04e8d",
   "metadata": {},
   "outputs": [],
   "source": [
    "include(\"Baseline.jl\")"
   ]
  },
  {
   "cell_type": "code",
   "execution_count": 5,
   "id": "9a4ab405",
   "metadata": {
    "scrolled": false
   },
   "outputs": [
    {
     "data": {
      "text/plain": [
       "BaselineModel()"
      ]
     },
     "execution_count": 5,
     "metadata": {},
     "output_type": "execute_result"
    }
   ],
   "source": [
    "m = BaselineModel()"
   ]
  },
  {
   "cell_type": "markdown",
   "id": "692eeb84",
   "metadata": {},
   "source": [
    "# Loss & Evaluation Metrics"
   ]
  },
  {
   "cell_type": "code",
   "execution_count": 6,
   "id": "b62f6376",
   "metadata": {
    "scrolled": true
   },
   "outputs": [],
   "source": [
    "include(\"evaluators.jl\");"
   ]
  },
  {
   "cell_type": "code",
   "execution_count": 7,
   "id": "55f2e37c",
   "metadata": {},
   "outputs": [
    {
     "data": {
      "text/plain": [
       "3.8"
      ]
     },
     "execution_count": 7,
     "metadata": {},
     "output_type": "execute_result"
    }
   ],
   "source": [
    "HuberLoss(5)"
   ]
  },
  {
   "cell_type": "code",
   "execution_count": 8,
   "id": "f5194ce5",
   "metadata": {},
   "outputs": [],
   "source": [
    "l = [((0,1,2),3),((0,1,2),3),((0,1,2),3)];"
   ]
  },
  {
   "cell_type": "code",
   "execution_count": 9,
   "id": "14a77c50",
   "metadata": {},
   "outputs": [
    {
     "data": {
      "text/plain": [
       "0.9393023638732484"
      ]
     },
     "execution_count": 9,
     "metadata": {},
     "output_type": "execute_result"
    }
   ],
   "source": [
    "HuberLoss(l,m)"
   ]
  },
  {
   "cell_type": "markdown",
   "id": "a4f97db7",
   "metadata": {},
   "source": [
    "# Tester"
   ]
  },
  {
   "cell_type": "code",
   "execution_count": 19,
   "id": "fc38d134",
   "metadata": {},
   "outputs": [
    {
     "data": {
      "text/plain": [
       "tester (generic function with 1 method)"
      ]
     },
     "execution_count": 19,
     "metadata": {},
     "output_type": "execute_result"
    }
   ],
   "source": [
    "include(\"Tester.jl\")"
   ]
  },
  {
   "cell_type": "code",
   "execution_count": 16,
   "id": "3b7027b5",
   "metadata": {},
   "outputs": [
    {
     "data": {
      "text/plain": [
       "120-element Vector{Float64}:\n",
       " 0.1375051374149403\n",
       " 0.2341248584500797\n",
       " 0.370777316597553\n",
       " 0.42150776724218253\n",
       " 0.32078754118108854\n",
       " 0.476686287468191\n",
       " 0.006132722924544254\n",
       " 0.953176545301454\n",
       " 0.6266717178242445\n",
       " 0.048532151895730014\n",
       " 0.26389652686238385\n",
       " 0.7456555917057504\n",
       " 0.44120193520651374\n",
       " ⋮\n",
       " 0.15552812797890114\n",
       " 0.6031902604325157\n",
       " 0.04255023943682312\n",
       " 0.6849215044185846\n",
       " 0.9333837102116276\n",
       " 0.05797589590174468\n",
       " 0.5049211209297082\n",
       " 0.0288388080453299\n",
       " 0.09808136115294941\n",
       " 0.1371966439492689\n",
       " 0.41084196741497525\n",
       " 0.4264593258105076"
      ]
     },
     "execution_count": 16,
     "metadata": {},
     "output_type": "execute_result"
    }
   ],
   "source": [
    "sentences = rand(120)"
   ]
  },
  {
   "cell_type": "code",
   "execution_count": 13,
   "id": "ad3499b8",
   "metadata": {},
   "outputs": [
    {
     "data": {
      "text/plain": [
       "\"Adrienne Bailon is an accountant.\""
      ]
     },
     "execution_count": 13,
     "metadata": {},
     "output_type": "execute_result"
    }
   ],
   "source": [
    "claim = s[4][\"claim\"];"
   ]
  },
  {
   "cell_type": "code",
   "execution_count": 17,
   "id": "2fbd5dcc",
   "metadata": {},
   "outputs": [
    {
     "data": {
      "text/plain": [
       "5"
      ]
     },
     "execution_count": 17,
     "metadata": {},
     "output_type": "execute_result"
    }
   ],
   "source": [
    "K = 5"
   ]
  },
  {
   "cell_type": "code",
   "execution_count": 20,
   "id": "2e55ab1a",
   "metadata": {
    "scrolled": true
   },
   "outputs": [
    {
     "data": {
      "text/plain": [
       "5-element Vector{Any}:\n",
       " 0.1375051374149403\n",
       " 0.06505643291676932\n",
       " 0.4580704608386035\n",
       " 0.370777316597553\n",
       " 0.006132722924544254"
      ]
     },
     "execution_count": 20,
     "metadata": {},
     "output_type": "execute_result"
    }
   ],
   "source": [
    "tester(m,claim,sentences,K)"
   ]
  },
  {
   "cell_type": "code",
   "execution_count": null,
   "id": "a9ec9aae",
   "metadata": {},
   "outputs": [],
   "source": []
  }
 ],
 "metadata": {
  "kernelspec": {
   "display_name": "Julia 1.6.3",
   "language": "julia",
   "name": "julia-1.6"
  },
  "language_info": {
   "file_extension": ".jl",
   "mimetype": "application/julia",
   "name": "julia",
   "version": "1.6.3"
  }
 },
 "nbformat": 4,
 "nbformat_minor": 5
}
