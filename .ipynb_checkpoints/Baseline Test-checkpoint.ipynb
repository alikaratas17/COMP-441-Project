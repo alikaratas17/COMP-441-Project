{
 "cells": [
  {
   "cell_type": "markdown",
   "id": "89b9e74d",
   "metadata": {},
   "source": [
    "# Data Reading"
   ]
  },
  {
   "cell_type": "code",
   "execution_count": 1,
   "id": "398f5c51",
   "metadata": {
    "scrolled": true
   },
   "outputs": [
    {
     "data": {
      "text/plain": [
       "readData_tsv (generic function with 1 method)"
      ]
     },
     "execution_count": 1,
     "metadata": {},
     "output_type": "execute_result"
    }
   ],
   "source": [
    "include(\"DataReader.jl\")"
   ]
  },
  {
   "cell_type": "code",
   "execution_count": 2,
   "id": "e04920f8",
   "metadata": {
    "scrolled": false
   },
   "outputs": [],
   "source": [
    "s = readData_tsv(\"sample_data.tsv\");"
   ]
  },
  {
   "cell_type": "code",
   "execution_count": 3,
   "id": "a214b5b7",
   "metadata": {},
   "outputs": [
    {
     "data": {
      "text/plain": [
       "Dict{SubString{String}, SubString{String}} with 4 entries:\n",
       "  \"label\"    => \"SUPPORTS\"\n",
       "  \"id\"       => \"150448\"\n",
       "  \"evidence\" => \"Roman Atwood He is best known for his vlogs , where he posts u…\n",
       "  \"claim\"    => \"Roman Atwood is a content creator.\""
      ]
     },
     "execution_count": 3,
     "metadata": {},
     "output_type": "execute_result"
    }
   ],
   "source": [
    "s[1]"
   ]
  },
  {
   "cell_type": "code",
   "execution_count": 4,
   "id": "a573b7ec",
   "metadata": {},
   "outputs": [],
   "source": [
    "s2 = readData(\"wiki_sample_data.jsonl\");"
   ]
  },
  {
   "cell_type": "code",
   "execution_count": 5,
   "id": "e2b50e10",
   "metadata": {
    "scrolled": true
   },
   "outputs": [
    {
     "data": {
      "text/plain": [
       "Dict{String, Any} with 8 entries:\n",
       "  \"label\"           => \"SUPPORTS\"\n",
       "  \"noun_phrases\"    => Any[\"Roman Atwood is a content creator.\", \"Roman Atwood\"…\n",
       "  \"verifiable\"      => \"VERIFIABLE\"\n",
       "  \"wiki_results\"    => Any[\"Vitaly_Zdorovetskiy\", \"Sam_Macaroni\", \"Yousef_Eraka…\n",
       "  \"id\"              => 150448\n",
       "  \"predicted_pages\" => Any[\"Content_-LRB-media-RRB-\", \"Roman_-LRB-given_name-RR…\n",
       "  \"evidence\"        => Any[Any[Any[174271, 187498, \"Roman_Atwood\", 1]], Any[Any…\n",
       "  \"claim\"           => \"Roman Atwood is a content creator.\""
      ]
     },
     "execution_count": 5,
     "metadata": {},
     "output_type": "execute_result"
    }
   ],
   "source": [
    "s2[2]"
   ]
  },
  {
   "cell_type": "code",
   "execution_count": 6,
   "id": "abe3b1e1",
   "metadata": {
    "scrolled": true
   },
   "outputs": [
    {
     "data": {
      "text/plain": [
       "2-element Vector{Any}:\n",
       " Any[Any[174271, 187498, \"Roman_Atwood\", 1]]\n",
       " Any[Any[174271, 187499, \"Roman_Atwood\", 3]]"
      ]
     },
     "execution_count": 6,
     "metadata": {},
     "output_type": "execute_result"
    }
   ],
   "source": [
    "s2[2][\"evidence\"]"
   ]
  },
  {
   "cell_type": "code",
   "execution_count": 7,
   "id": "aac8494f",
   "metadata": {},
   "outputs": [
    {
     "data": {
      "text/plain": [
       "Dict{SubString{String}, SubString{String}} with 4 entries:\n",
       "  \"label\"    => \"SUPPORTS\"\n",
       "  \"id\"       => \"150448\"\n",
       "  \"evidence\" => \"Roman Atwood He is best known for his vlogs , where he posts u…\n",
       "  \"claim\"    => \"Roman Atwood is a content creator.\""
      ]
     },
     "execution_count": 7,
     "metadata": {},
     "output_type": "execute_result"
    }
   ],
   "source": [
    "s[1]"
   ]
  },
  {
   "cell_type": "markdown",
   "id": "127bce1f",
   "metadata": {},
   "source": [
    "# Simple Baseline Model"
   ]
  },
  {
   "cell_type": "code",
   "execution_count": 8,
   "id": "e6b04e8d",
   "metadata": {},
   "outputs": [],
   "source": [
    "include(\"Baseline.jl\")"
   ]
  },
  {
   "cell_type": "code",
   "execution_count": 9,
   "id": "9a4ab405",
   "metadata": {
    "scrolled": false
   },
   "outputs": [
    {
     "data": {
      "text/plain": [
       "BaselineModel()"
      ]
     },
     "execution_count": 9,
     "metadata": {},
     "output_type": "execute_result"
    }
   ],
   "source": [
    "m = BaselineModel()"
   ]
  },
  {
   "cell_type": "markdown",
   "id": "692eeb84",
   "metadata": {},
   "source": [
    "# Loss & Evaluation Metrics"
   ]
  },
  {
   "cell_type": "code",
   "execution_count": 10,
   "id": "b62f6376",
   "metadata": {
    "scrolled": true
   },
   "outputs": [],
   "source": [
    "include(\"evaluators.jl\");"
   ]
  },
  {
   "cell_type": "code",
   "execution_count": 11,
   "id": "55f2e37c",
   "metadata": {},
   "outputs": [
    {
     "data": {
      "text/plain": [
       "3.8"
      ]
     },
     "execution_count": 11,
     "metadata": {},
     "output_type": "execute_result"
    }
   ],
   "source": [
    "HuberLoss(5)"
   ]
  },
  {
   "cell_type": "code",
   "execution_count": 12,
   "id": "f5194ce5",
   "metadata": {},
   "outputs": [],
   "source": [
    "l = [((0,1,2),3),((0,1,2),3),((0,1,2),3)];"
   ]
  },
  {
   "cell_type": "code",
   "execution_count": 13,
   "id": "14a77c50",
   "metadata": {},
   "outputs": [
    {
     "data": {
      "text/plain": [
       "0.2054486921045308"
      ]
     },
     "execution_count": 13,
     "metadata": {},
     "output_type": "execute_result"
    }
   ],
   "source": [
    "HuberLoss(l,m)"
   ]
  },
  {
   "cell_type": "markdown",
   "id": "a4f97db7",
   "metadata": {},
   "source": [
    "# Tester"
   ]
  },
  {
   "cell_type": "code",
   "execution_count": 14,
   "id": "fc38d134",
   "metadata": {},
   "outputs": [
    {
     "data": {
      "text/plain": [
       "tester (generic function with 1 method)"
      ]
     },
     "execution_count": 14,
     "metadata": {},
     "output_type": "execute_result"
    }
   ],
   "source": [
    "include(\"Tester.jl\")"
   ]
  },
  {
   "cell_type": "code",
   "execution_count": 15,
   "id": "3b7027b5",
   "metadata": {},
   "outputs": [
    {
     "data": {
      "text/plain": [
       "120-element Vector{Float64}:\n",
       " 0.21345777669055344\n",
       " 0.32967262480625137\n",
       " 0.33075268591983464\n",
       " 0.16513956284006692\n",
       " 0.2046441366576568\n",
       " 0.6367676941813731\n",
       " 0.858325088068367\n",
       " 0.689669660444727\n",
       " 0.8789780909940639\n",
       " 0.45142878872581194\n",
       " 0.9374414791601591\n",
       " 0.658870262552733\n",
       " 0.17440580010923057\n",
       " ⋮\n",
       " 0.5583456302544167\n",
       " 0.4860456462927849\n",
       " 0.9758869080171573\n",
       " 0.12943200237226282\n",
       " 0.6643895213102118\n",
       " 0.745657007814216\n",
       " 0.00664776900789521\n",
       " 0.2074858902019041\n",
       " 0.0003506196643743298\n",
       " 0.29469884437224936\n",
       " 0.42731640376571\n",
       " 0.8724956948700797"
      ]
     },
     "execution_count": 15,
     "metadata": {},
     "output_type": "execute_result"
    }
   ],
   "source": [
    "sentences = rand(120)"
   ]
  },
  {
   "cell_type": "code",
   "execution_count": 16,
   "id": "ad3499b8",
   "metadata": {},
   "outputs": [],
   "source": [
    "claim = s[4][\"claim\"];"
   ]
  },
  {
   "cell_type": "code",
   "execution_count": 17,
   "id": "2fbd5dcc",
   "metadata": {},
   "outputs": [
    {
     "data": {
      "text/plain": [
       "5"
      ]
     },
     "execution_count": 17,
     "metadata": {},
     "output_type": "execute_result"
    }
   ],
   "source": [
    "K = 5"
   ]
  },
  {
   "cell_type": "code",
   "execution_count": 18,
   "id": "2e55ab1a",
   "metadata": {
    "scrolled": true
   },
   "outputs": [
    {
     "data": {
      "text/plain": [
       "5-element Vector{Any}:\n",
       " 0.21345777669055344\n",
       " 0.0003506196643743298\n",
       " 0.00664776900789521\n",
       " 0.17727003206941405\n",
       " 0.44239264009334645"
      ]
     },
     "execution_count": 18,
     "metadata": {},
     "output_type": "execute_result"
    }
   ],
   "source": [
    "tester(m,claim,sentences,K)"
   ]
  },
  {
   "cell_type": "code",
   "execution_count": null,
   "id": "a9ec9aae",
   "metadata": {},
   "outputs": [],
   "source": []
  }
 ],
 "metadata": {
  "kernelspec": {
   "display_name": "Julia 1.6.3",
   "language": "julia",
   "name": "julia-1.6"
  },
  "language_info": {
   "file_extension": ".jl",
   "mimetype": "application/julia",
   "name": "julia",
   "version": "1.6.3"
  }
 },
 "nbformat": 4,
 "nbformat_minor": 5
}
